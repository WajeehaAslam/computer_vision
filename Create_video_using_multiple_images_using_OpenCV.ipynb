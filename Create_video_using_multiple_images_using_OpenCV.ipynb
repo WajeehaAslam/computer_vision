{
  "nbformat": 4,
  "nbformat_minor": 0,
  "metadata": {
    "colab": {
      "provenance": [],
      "authorship_tag": "ABX9TyPVF+2rKgXSPHS9k2kR1XpA",
      "include_colab_link": true
    },
    "kernelspec": {
      "name": "python3",
      "display_name": "Python 3"
    },
    "language_info": {
      "name": "python"
    }
  },
  "cells": [
    {
      "cell_type": "markdown",
      "metadata": {
        "id": "view-in-github",
        "colab_type": "text"
      },
      "source": [
        "<a href=\"https://colab.research.google.com/github/WajeehaAslam/computer_vision/blob/main/Create_video_using_multiple_images_using_OpenCV.ipynb\" target=\"_parent\"><img src=\"https://colab.research.google.com/assets/colab-badge.svg\" alt=\"Open In Colab\"/></a>"
      ]
    },
    {
      "cell_type": "code",
      "execution_count": 1,
      "metadata": {
        "id": "Y_cE2tVGvq1r"
      },
      "outputs": [],
      "source": [
        "import os\n",
        "import cv2\n",
        "from PIL import Image\n"
      ]
    },
    {
      "cell_type": "code",
      "source": [
        "!unzip \"/content/Animals.zip\"\n"
      ],
      "metadata": {
        "colab": {
          "base_uri": "https://localhost:8080/"
        },
        "id": "ik2SJ867vuMS",
        "outputId": "1baae698-eae7-40f1-bfbd-fea1d6893360"
      },
      "execution_count": 4,
      "outputs": [
        {
          "output_type": "stream",
          "name": "stdout",
          "text": [
            "Archive:  /content/Animals.zip\n",
            "  inflating: Animals/bunny.jpg       \n",
            "  inflating: Animals/cats.jpg        \n",
            "  inflating: Animals/catss.jpg       \n",
            "  inflating: Animals/dog.jpg         \n",
            "  inflating: Animals/dogs.jpg        \n",
            "  inflating: Animals/pandas.jpg      \n",
            "  inflating: Animals/pen.jpg         \n",
            "  inflating: Animals/penguins.jpg    \n",
            "  inflating: Animals/rabbit.jpg      \n"
          ]
        }
      ]
    },
    {
      "cell_type": "code",
      "source": [
        "path = \"/content/Animals\"\n",
        "os.chdir(path)\n",
        "\n",
        "mean_height = 0\n",
        "mean_width = 0\n"
      ],
      "metadata": {
        "id": "k4JINBPjv2tO"
      },
      "execution_count": 6,
      "outputs": []
    },
    {
      "cell_type": "code",
      "source": [
        "num_of_images = len([file for file in os.listdir('.') if file.endswith((\".jpg\", \".jpeg\", \".png\"))])\n",
        "print(\"Number of Images:\", num_of_images)\n"
      ],
      "metadata": {
        "colab": {
          "base_uri": "https://localhost:8080/"
        },
        "id": "BFQOCTDBwBsY",
        "outputId": "15c415c8-f5bf-4ba7-85fa-0fcdbeed8072"
      },
      "execution_count": 7,
      "outputs": [
        {
          "output_type": "stream",
          "name": "stdout",
          "text": [
            "Number of Images: 9\n"
          ]
        }
      ]
    },
    {
      "cell_type": "code",
      "source": [
        "for file in os.listdir('.'):\n",
        "    if file.endswith(\".jpg\") or file.endswith(\".jpeg\") or file.endswith(\"png\"):\n",
        "        im = Image.open(os.path.join(path, file))\n",
        "        width, height = im.size\n",
        "        mean_width += width\n",
        "        mean_height += height\n"
      ],
      "metadata": {
        "id": "2iYkjb3OwFsJ"
      },
      "execution_count": 8,
      "outputs": []
    },
    {
      "cell_type": "code",
      "source": [
        "mean_width = int(mean_width / num_of_images)\n",
        "mean_height = int(mean_height / num_of_images)\n"
      ],
      "metadata": {
        "id": "6WBOc_x-wKpo"
      },
      "execution_count": 9,
      "outputs": []
    },
    {
      "cell_type": "code",
      "source": [
        "for file in os.listdir('.'):\n",
        "    if file.endswith(\".jpg\") or file.endswith(\".jpeg\") or file.endswith(\"png\"):\n",
        "        im = Image.open(os.path.join(path, file))\n",
        "        # Use Image.LANCZOS instead of Image.ANTIALIAS for downsampling\n",
        "        im_resized = im.resize((mean_width, mean_height), Image.LANCZOS)\n",
        "        im_resized.save(file, 'JPEG', quality=95)\n",
        "        print(f\"{file} is resized\")"
      ],
      "metadata": {
        "colab": {
          "base_uri": "https://localhost:8080/"
        },
        "id": "H-l0JaehwMiv",
        "outputId": "84985c7c-caeb-4314-be45-fc9073601b16"
      },
      "execution_count": 10,
      "outputs": [
        {
          "output_type": "stream",
          "name": "stdout",
          "text": [
            "catss.jpg is resized\n",
            "bunny.jpg is resized\n",
            "pandas.jpg is resized\n",
            "rabbit.jpg is resized\n",
            "pen.jpg is resized\n",
            "dog.jpg is resized\n",
            "penguins.jpg is resized\n",
            "dogs.jpg is resized\n",
            "cats.jpg is resized\n"
          ]
        }
      ]
    },
    {
      "cell_type": "code",
      "source": [
        "# Function to generate video\n",
        "def generate_video():\n",
        "    image_folder = path\n",
        "    video_name = 'mygeneratedvideo.avi'\n",
        "\n",
        "    images = [img for img in os.listdir(image_folder) if img.endswith((\".jpg\", \".jpeg\", \".png\"))]\n",
        "    print(\"Images:\", images)\n",
        "\n",
        "    # Set frame from the first image\n",
        "    frame = cv2.imread(os.path.join(image_folder, images[0]))\n",
        "    height, width, layers = frame.shape\n",
        "\n",
        "    # Video writer to create .avi file\n",
        "    video = cv2.VideoWriter(video_name, cv2.VideoWriter_fourcc(*'DIVX'), 1, (width, height))\n",
        "\n",
        "    # Appending images to video\n",
        "    for image in images:\n",
        "        video.write(cv2.imread(os.path.join(image_folder, image)))\n",
        "\n",
        "    # Release the video file\n",
        "    video.release()\n",
        "    cv2.destroyAllWindows()\n",
        "    print(\"Video generated successfully!\")\n",
        "\n",
        "# Calling the function to generate the video\n",
        "generate_video()"
      ],
      "metadata": {
        "colab": {
          "base_uri": "https://localhost:8080/"
        },
        "id": "RpoRGM4nwaWB",
        "outputId": "e60fedb5-85ec-4b80-965e-829e492d9a74"
      },
      "execution_count": 11,
      "outputs": [
        {
          "output_type": "stream",
          "name": "stdout",
          "text": [
            "Images: ['catss.jpg', 'bunny.jpg', 'pandas.jpg', 'rabbit.jpg', 'pen.jpg', 'dog.jpg', 'penguins.jpg', 'dogs.jpg', 'cats.jpg']\n",
            "Video generated successfully!\n"
          ]
        }
      ]
    }
  ]
}