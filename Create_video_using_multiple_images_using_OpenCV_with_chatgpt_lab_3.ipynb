{
  "nbformat": 4,
  "nbformat_minor": 0,
  "metadata": {
    "colab": {
      "provenance": [],
      "authorship_tag": "ABX9TyNbVxa88KrN8ABdtbP0W9+g",
      "include_colab_link": true
    },
    "kernelspec": {
      "name": "python3",
      "display_name": "Python 3"
    },
    "language_info": {
      "name": "python"
    }
  },
  "cells": [
    {
      "cell_type": "markdown",
      "metadata": {
        "id": "view-in-github",
        "colab_type": "text"
      },
      "source": [
        "<a href=\"https://colab.research.google.com/github/WajeehaAslam/computer_vision/blob/main/Create_video_using_multiple_images_using_OpenCV_with_chatgpt_lab_3.ipynb\" target=\"_parent\"><img src=\"https://colab.research.google.com/assets/colab-badge.svg\" alt=\"Open In Colab\"/></a>"
      ]
    },
    {
      "cell_type": "code",
      "source": [
        "pip install rarfile"
      ],
      "metadata": {
        "colab": {
          "base_uri": "https://localhost:8080/"
        },
        "id": "TPRdijAgoV_F",
        "outputId": "db45efd4-abf1-4227-81c0-fc99c91cb1a0"
      },
      "execution_count": 2,
      "outputs": [
        {
          "output_type": "stream",
          "name": "stdout",
          "text": [
            "Collecting rarfile\n",
            "  Downloading rarfile-4.2-py3-none-any.whl.metadata (4.4 kB)\n",
            "Downloading rarfile-4.2-py3-none-any.whl (29 kB)\n",
            "Installing collected packages: rarfile\n",
            "Successfully installed rarfile-4.2\n"
          ]
        }
      ]
    },
    {
      "cell_type": "code",
      "source": [
        "import os\n",
        "import rarfile\n",
        "from PIL import Image\n",
        "\n",
        "# Path to your RAR file\n",
        "rar_path = \"/content/Animals.rar\"\n",
        "\n",
        "# Folder where files will be extracted\n",
        "extract_folder = \"Animals_unzipped\"\n",
        "\n",
        "# Step 1: Extract the RAR file\n",
        "with rarfile.RarFile(rar_path) as rf:\n",
        "    rf.extractall(extract_folder)\n",
        "    print(f\"Extracted all files to: {extract_folder}\")\n",
        "\n",
        "# Step 2: Count valid image files using Pillow\n",
        "image_count = 0\n",
        "\n",
        "for root, dirs, files in os.walk(extract_folder):\n",
        "    for file in files:\n",
        "        file_path = os.path.join(root, file)\n",
        "        try:\n",
        "            with Image.open(file_path) as img:\n",
        "                img.verify()  # Check if file is a valid image\n",
        "                image_count += 1\n",
        "        except Exception:\n",
        "            # Skip non-image files\n",
        "            pass\n",
        "\n",
        "print(f\"✅ Total number of valid images: {image_count}\")\n"
      ],
      "metadata": {
        "colab": {
          "base_uri": "https://localhost:8080/"
        },
        "id": "YJoobwx-rQ1N",
        "outputId": "e4430b1c-31d8-4401-c04d-1aa3f29a9346"
      },
      "execution_count": 15,
      "outputs": [
        {
          "output_type": "stream",
          "name": "stdout",
          "text": [
            "Extracted all files to: Animals_unzipped\n",
            "✅ Total number of valid images: 9\n"
          ]
        }
      ]
    },
    {
      "cell_type": "code",
      "source": [
        "# Standardizing Image Dimensions with Pillow (PIL)\n",
        "\n",
        "import os\n",
        "from PIL import Image\n",
        "\n",
        "# Path where images were extracted\n",
        "path = extract_folder\n",
        "\n",
        "mean_height = 0\n",
        "mean_width = 0\n",
        "num_of_images = 0\n",
        "\n",
        "# Step 1: Calculate total width and height of all images\n",
        "for root, dirs, files in os.walk(path):\n",
        "    for file in files:\n",
        "        if file.lower().endswith((\".jpg\", \".jpeg\", \".png\")):\n",
        "            file_path = os.path.join(root, file)\n",
        "            try:\n",
        "                im = Image.open(file_path)\n",
        "                width, height = im.size\n",
        "                mean_width += width\n",
        "                mean_height += height\n",
        "                num_of_images += 1\n",
        "            except Exception:\n",
        "                pass  # skip invalid or corrupted images\n",
        "\n",
        "# Step 2: Compute mean dimensions\n",
        "if num_of_images == 0:\n",
        "    raise ValueError(\"❌ No valid images found for resizing!\")\n",
        "\n",
        "mean_width = int(mean_width / num_of_images)\n",
        "mean_height = int(mean_height / num_of_images)\n",
        "\n",
        "print(f\"📏 Mean Width: {mean_width}, Mean Height: {mean_height}\")\n",
        "\n",
        "# Step 3: Resize all images to mean dimensions\n",
        "for root, dirs, files in os.walk(path):\n",
        "    for file in files:\n",
        "        if file.lower().endswith((\".jpg\", \".jpeg\", \".png\")):\n",
        "            file_path = os.path.join(root, file)\n",
        "            try:\n",
        "                im = Image.open(file_path)\n",
        "                im_resized = im.resize((mean_width, mean_height), Image.LANCZOS)\n",
        "                im_resized.save(file_path, 'JPEG', quality=95)\n",
        "                print(f\"✅ {file} resized successfully\")\n",
        "            except Exception as e:\n",
        "                print(f\"⚠️ Skipping {file}: {e}\")\n",
        "\n",
        "print(\"🎯 All images standardized to mean dimensions!\")\n"
      ],
      "metadata": {
        "colab": {
          "base_uri": "https://localhost:8080/"
        },
        "id": "LiDp_5RAtufT",
        "outputId": "8bcd9785-b5e6-4c40-a17a-1019a1bd1a40"
      },
      "execution_count": 24,
      "outputs": [
        {
          "output_type": "stream",
          "name": "stdout",
          "text": [
            "📏 Mean Width: 314, Mean Height: 220\n",
            "✅ catss.jpg resized successfully\n",
            "✅ bunny.jpg resized successfully\n",
            "✅ pandas.jpg resized successfully\n",
            "✅ rabbit.jpg resized successfully\n",
            "✅ pen.jpg resized successfully\n",
            "✅ dog.jpg resized successfully\n",
            "✅ penguins.jpg resized successfully\n",
            "✅ dogs.jpg resized successfully\n",
            "✅ cats.jpg resized successfully\n",
            "🎯 All images standardized to mean dimensions!\n"
          ]
        }
      ]
    },
    {
      "cell_type": "code",
      "source": [
        "import cv2\n",
        "import os\n",
        "\n",
        "def generate_video_from_images(image_folder, output_video=\"output.avi\", fps=10):\n",
        "    \"\"\"\n",
        "    Generates a video from images in the folder (recursively).\n",
        "    \"\"\"\n",
        "    # Collect all image files recursively\n",
        "    image_files = []\n",
        "    for root, dirs, files in os.walk(image_folder):\n",
        "        for f in files:\n",
        "            if f.lower().endswith((\".jpg\", \".jpeg\", \".png\")):\n",
        "                image_files.append(os.path.join(root, f))\n",
        "\n",
        "    # Sort files alphabetically\n",
        "    image_files.sort()\n",
        "\n",
        "    if len(image_files) == 0:\n",
        "        raise ValueError(f\"❌ No images found in folder '{image_folder}' to generate video.\")\n",
        "\n",
        "    # Set frame size from the first image\n",
        "    first_image = cv2.imread(image_files[0])\n",
        "    height, width, layers = first_image.shape\n",
        "    frame_size = (width, height)\n",
        "\n",
        "    # Create VideoWriter object\n",
        "    fourcc = cv2.VideoWriter_fourcc(*'XVID')  # For .avi\n",
        "    out = cv2.VideoWriter(output_video, fourcc, fps, frame_size)\n",
        "\n",
        "    # Append all images to the video\n",
        "    for file in image_files:\n",
        "        img = cv2.imread(file)\n",
        "        if img.shape[:2] != (height, width):\n",
        "            img = cv2.resize(img, frame_size)\n",
        "        out.write(img)\n",
        "\n",
        "    out.release()\n",
        "    print(f\"🎬 Video created successfully: {output_video}\")\n",
        "\n",
        "# --- Call the function ---\n",
        "generate_video_from_images(extract_folder, output_video=\"Animals_video.avi\", fps=5)\n"
      ],
      "metadata": {
        "colab": {
          "base_uri": "https://localhost:8080/"
        },
        "id": "CPkjdp2YugKC",
        "outputId": "ff007fde-9fac-45a6-979e-61e65a3e55fe"
      },
      "execution_count": 26,
      "outputs": [
        {
          "output_type": "stream",
          "name": "stdout",
          "text": [
            "🎬 Video created successfully: Animals_video.avi\n"
          ]
        }
      ]
    },
    {
      "cell_type": "code",
      "source": [
        "import os\n",
        "import cv2\n",
        "from PIL import Image"
      ],
      "metadata": {
        "id": "krsG3kNQvOvp"
      },
      "execution_count": 27,
      "outputs": []
    },
    {
      "cell_type": "code",
      "source": [
        "!unzip \"/content/Animals.zip\""
      ],
      "metadata": {
        "colab": {
          "base_uri": "https://localhost:8080/"
        },
        "id": "TjaYtfZDvQ4g",
        "outputId": "0aa122fb-0ec6-443a-d846-94f41cee2f97"
      },
      "execution_count": 29,
      "outputs": [
        {
          "output_type": "stream",
          "name": "stdout",
          "text": [
            "unzip:  cannot find or open /content/Animals.zip, /content/Animals.zip.zip or /content/Animals.zip.ZIP.\n"
          ]
        }
      ]
    },
    {
      "cell_type": "code",
      "source": [
        "\n",
        "\n",
        "\n",
        "\n",
        "path = \"/content/CV images\"\n",
        "os.chdir(path)\n",
        "\n",
        "mean_height = 0\n",
        "mean_width = 0\n",
        "\n",
        "num_of_images = len([file for file in os.listdir('.') if file.endswith((\".jpg\", \".jpeg\", \".png\"))])\n",
        "print(\"Number of Images:\", num_of_images)\n",
        "\n",
        "for file in os.listdir('.'):\n",
        "    if file.endswith(\".jpg\") or file.endswith(\".jpeg\") or file.endswith(\"png\"):\n",
        "        im = Image.open(os.path.join(path, file))\n",
        "        width, height = im.size\n",
        "        mean_width += width\n",
        "        mean_height += height\n",
        "\n",
        "mean_width = int(mean_width / num_of_images)\n",
        "mean_height = int(mean_height / num_of_images)\n",
        "\n",
        "for file in os.listdir('.'):\n",
        "    if file.endswith(\".jpg\") or file.endswith(\".jpeg\") or file.endswith(\"png\"):\n",
        "        im = Image.open(os.path.join(path, file))\n",
        "        # Use Image.LANCZOS instead of Image.ANTIALIAS for downsampling\n",
        "        im_resized = im.resize((mean_width, mean_height), Image.LANCZOS)\n",
        "        im_resized.save(file, 'JPEG', quality=95)\n",
        "        print(f\"{file} is resized\")"
      ],
      "metadata": {
        "id": "TvJu2Hu7vN-w"
      },
      "execution_count": null,
      "outputs": []
    }
  ]
}